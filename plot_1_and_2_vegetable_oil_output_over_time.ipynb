{
 "cells": [
  {
   "cell_type": "code",
   "execution_count": 7,
   "outputs": [],
   "source": [
    "import os\n",
    "import pandas as pd\n",
    "import plotly.express as px\n",
    "DATA = 'data'"
   ],
   "metadata": {
    "collapsed": false,
    "pycharm": {
     "name": "#%%\n"
    }
   }
  },
  {
   "cell_type": "code",
   "execution_count": 8,
   "outputs": [],
   "source": [
    "vegetable_oil_production = pd.read_csv(os.path.join(DATA, 'FAOSTAT_vegetable_oil_production_data.csv'))\n",
    "year = vegetable_oil_production['Year'].drop_duplicates(keep='first', inplace=False)"
   ],
   "metadata": {
    "collapsed": false,
    "pycharm": {
     "name": "#%%\n"
    }
   }
  },
  {
   "cell_type": "code",
   "execution_count": 9,
   "outputs": [],
   "source": [
    "veg_oil_production = vegetable_oil_production[['Item', 'Year', 'Value']]"
   ],
   "metadata": {
    "collapsed": false,
    "pycharm": {
     "name": "#%%\n"
    }
   }
  },
  {
   "cell_type": "code",
   "execution_count": 10,
   "outputs": [
    {
     "data": {
      "text/plain": "Item  Year  Oil, coconut (copra)  Oil, cottonseed  Oil, groundnut  \\\n0     1961             1633350.0        2308732.0       2671133.0   \n1     1962             1983487.0        2401261.0       2796692.0   \n2     1963             1914760.0        2653521.0       3075010.0   \n3     1964             1839165.0        2894971.0       3206274.0   \n4     1965             1899538.0        3091282.0       2952694.0   \n\nItem  Oil, linseed  Oil, maize  Oil, olive, virgin  Oil, palm  \\\n0         854706.0    350146.0           1359340.0  1518901.0   \n1         974771.0    368321.0            931298.0  1515941.0   \n2         937672.0    378168.0           1807877.0  1575070.0   \n3         944800.0    398323.0            936277.0  1610032.0   \n4        1048865.0    436068.0           1244506.0  1616213.0   \n\nItem  Oil, palm kernel  Oil, rapeseed  Oil, safflower  Oil, sesame  \\\n0             490955.0      1205779.0         94176.0     468071.0   \n1             491444.0      1288257.0        157264.0     566256.0   \n2             454371.0      1288358.0        155827.0     570664.0   \n3             494483.0      1292996.0        126048.0     578031.0   \n4             516250.0      1837794.0        128107.0     570083.0   \n\nItem  Oil, soybean  Oil, sunflower  \n0        3308351.0       1961147.0  \n1        3605636.0       2307777.0  \n2        3845507.0       2425820.0  \n3        3848921.0       2380328.0  \n4        4135235.0       3039955.0  ",
      "text/html": "<div>\n<style scoped>\n    .dataframe tbody tr th:only-of-type {\n        vertical-align: middle;\n    }\n\n    .dataframe tbody tr th {\n        vertical-align: top;\n    }\n\n    .dataframe thead th {\n        text-align: right;\n    }\n</style>\n<table border=\"1\" class=\"dataframe\">\n  <thead>\n    <tr style=\"text-align: right;\">\n      <th>Item</th>\n      <th>Year</th>\n      <th>Oil, coconut (copra)</th>\n      <th>Oil, cottonseed</th>\n      <th>Oil, groundnut</th>\n      <th>Oil, linseed</th>\n      <th>Oil, maize</th>\n      <th>Oil, olive, virgin</th>\n      <th>Oil, palm</th>\n      <th>Oil, palm kernel</th>\n      <th>Oil, rapeseed</th>\n      <th>Oil, safflower</th>\n      <th>Oil, sesame</th>\n      <th>Oil, soybean</th>\n      <th>Oil, sunflower</th>\n    </tr>\n  </thead>\n  <tbody>\n    <tr>\n      <th>0</th>\n      <td>1961</td>\n      <td>1633350.0</td>\n      <td>2308732.0</td>\n      <td>2671133.0</td>\n      <td>854706.0</td>\n      <td>350146.0</td>\n      <td>1359340.0</td>\n      <td>1518901.0</td>\n      <td>490955.0</td>\n      <td>1205779.0</td>\n      <td>94176.0</td>\n      <td>468071.0</td>\n      <td>3308351.0</td>\n      <td>1961147.0</td>\n    </tr>\n    <tr>\n      <th>1</th>\n      <td>1962</td>\n      <td>1983487.0</td>\n      <td>2401261.0</td>\n      <td>2796692.0</td>\n      <td>974771.0</td>\n      <td>368321.0</td>\n      <td>931298.0</td>\n      <td>1515941.0</td>\n      <td>491444.0</td>\n      <td>1288257.0</td>\n      <td>157264.0</td>\n      <td>566256.0</td>\n      <td>3605636.0</td>\n      <td>2307777.0</td>\n    </tr>\n    <tr>\n      <th>2</th>\n      <td>1963</td>\n      <td>1914760.0</td>\n      <td>2653521.0</td>\n      <td>3075010.0</td>\n      <td>937672.0</td>\n      <td>378168.0</td>\n      <td>1807877.0</td>\n      <td>1575070.0</td>\n      <td>454371.0</td>\n      <td>1288358.0</td>\n      <td>155827.0</td>\n      <td>570664.0</td>\n      <td>3845507.0</td>\n      <td>2425820.0</td>\n    </tr>\n    <tr>\n      <th>3</th>\n      <td>1964</td>\n      <td>1839165.0</td>\n      <td>2894971.0</td>\n      <td>3206274.0</td>\n      <td>944800.0</td>\n      <td>398323.0</td>\n      <td>936277.0</td>\n      <td>1610032.0</td>\n      <td>494483.0</td>\n      <td>1292996.0</td>\n      <td>126048.0</td>\n      <td>578031.0</td>\n      <td>3848921.0</td>\n      <td>2380328.0</td>\n    </tr>\n    <tr>\n      <th>4</th>\n      <td>1965</td>\n      <td>1899538.0</td>\n      <td>3091282.0</td>\n      <td>2952694.0</td>\n      <td>1048865.0</td>\n      <td>436068.0</td>\n      <td>1244506.0</td>\n      <td>1616213.0</td>\n      <td>516250.0</td>\n      <td>1837794.0</td>\n      <td>128107.0</td>\n      <td>570083.0</td>\n      <td>4135235.0</td>\n      <td>3039955.0</td>\n    </tr>\n  </tbody>\n</table>\n</div>"
     },
     "execution_count": 10,
     "metadata": {},
     "output_type": "execute_result"
    }
   ],
   "source": [
    "veg_oil_production = veg_oil_production.pivot_table(values='Value', index='Year', columns = 'Item', aggfunc='sum').reset_index()\n",
    "veg_oil_production.head()"
   ],
   "metadata": {
    "collapsed": false,
    "pycharm": {
     "name": "#%%\n"
    }
   }
  },
  {
   "cell_type": "code",
   "execution_count": 11,
   "outputs": [
    {
     "ename": "TypeError",
     "evalue": "'NoneType' object is not subscriptable",
     "output_type": "error",
     "traceback": [
      "\u001B[0;31m---------------------------------------------------------------------------\u001B[0m",
      "\u001B[0;31mTypeError\u001B[0m                                 Traceback (most recent call last)",
      "Input \u001B[0;32mIn [11]\u001B[0m, in \u001B[0;36m<cell line: 4>\u001B[0;34m()\u001B[0m\n\u001B[1;32m      1\u001B[0m \u001B[38;5;28;01mimport\u001B[39;00m \u001B[38;5;21;01mre\u001B[39;00m  \u001B[38;5;66;03m# todo: wilson you're obviously using regext ot update the column headers. please explain this one to me\u001B[39;00m\n\u001B[1;32m      3\u001B[0m pattern \u001B[38;5;241m=\u001B[39m \u001B[38;5;124mr\u001B[39m\u001B[38;5;124m'\u001B[39m\u001B[38;5;124m(?<=Oil, ).+?(?= - \u001B[39m\u001B[38;5;124m\\\u001B[39m\u001B[38;5;124md)\u001B[39m\u001B[38;5;124m'\u001B[39m\n\u001B[0;32m----> 4\u001B[0m cols \u001B[38;5;241m=\u001B[39m [re\u001B[38;5;241m.\u001B[39msearch(pattern, c, re\u001B[38;5;241m.\u001B[39mRegexFlag\u001B[38;5;241m.\u001B[39mIGNORECASE)[\u001B[38;5;241m0\u001B[39m] \u001B[38;5;28;01mfor\u001B[39;00m c \u001B[38;5;129;01min\u001B[39;00m veg_oil_production]\n\u001B[1;32m      5\u001B[0m cols \u001B[38;5;241m=\u001B[39m [re\u001B[38;5;241m.\u001B[39msub(\u001B[38;5;124m'\u001B[39m\u001B[38;5;124m \u001B[39m\u001B[38;5;124m'\u001B[39m, \u001B[38;5;124m'\u001B[39m\u001B[38;5;124m_\u001B[39m\u001B[38;5;124m'\u001B[39m, c) \u001B[38;5;28;01mfor\u001B[39;00m c \u001B[38;5;129;01min\u001B[39;00m cols]\n\u001B[1;32m      6\u001B[0m cols \u001B[38;5;241m=\u001B[39m [re\u001B[38;5;241m.\u001B[39msub(\u001B[38;5;124m'\u001B[39m\u001B[38;5;124m\\\u001B[39m\u001B[38;5;124mW\u001B[39m\u001B[38;5;124m'\u001B[39m, \u001B[38;5;124m'\u001B[39m\u001B[38;5;124m'\u001B[39m, c) \u001B[38;5;28;01mfor\u001B[39;00m c \u001B[38;5;129;01min\u001B[39;00m cols]\n",
      "Input \u001B[0;32mIn [11]\u001B[0m, in \u001B[0;36m<listcomp>\u001B[0;34m(.0)\u001B[0m\n\u001B[1;32m      1\u001B[0m \u001B[38;5;28;01mimport\u001B[39;00m \u001B[38;5;21;01mre\u001B[39;00m  \u001B[38;5;66;03m# todo: wilson you're obviously using regext ot update the column headers. please explain this one to me\u001B[39;00m\n\u001B[1;32m      3\u001B[0m pattern \u001B[38;5;241m=\u001B[39m \u001B[38;5;124mr\u001B[39m\u001B[38;5;124m'\u001B[39m\u001B[38;5;124m(?<=Oil, ).+?(?= - \u001B[39m\u001B[38;5;124m\\\u001B[39m\u001B[38;5;124md)\u001B[39m\u001B[38;5;124m'\u001B[39m\n\u001B[0;32m----> 4\u001B[0m cols \u001B[38;5;241m=\u001B[39m [\u001B[43mre\u001B[49m\u001B[38;5;241;43m.\u001B[39;49m\u001B[43msearch\u001B[49m\u001B[43m(\u001B[49m\u001B[43mpattern\u001B[49m\u001B[43m,\u001B[49m\u001B[43m \u001B[49m\u001B[43mc\u001B[49m\u001B[43m,\u001B[49m\u001B[43m \u001B[49m\u001B[43mre\u001B[49m\u001B[38;5;241;43m.\u001B[39;49m\u001B[43mRegexFlag\u001B[49m\u001B[38;5;241;43m.\u001B[39;49m\u001B[43mIGNORECASE\u001B[49m\u001B[43m)\u001B[49m\u001B[43m[\u001B[49m\u001B[38;5;241;43m0\u001B[39;49m\u001B[43m]\u001B[49m \u001B[38;5;28;01mfor\u001B[39;00m c \u001B[38;5;129;01min\u001B[39;00m veg_oil_production]\n\u001B[1;32m      5\u001B[0m cols \u001B[38;5;241m=\u001B[39m [re\u001B[38;5;241m.\u001B[39msub(\u001B[38;5;124m'\u001B[39m\u001B[38;5;124m \u001B[39m\u001B[38;5;124m'\u001B[39m, \u001B[38;5;124m'\u001B[39m\u001B[38;5;124m_\u001B[39m\u001B[38;5;124m'\u001B[39m, c) \u001B[38;5;28;01mfor\u001B[39;00m c \u001B[38;5;129;01min\u001B[39;00m cols]\n\u001B[1;32m      6\u001B[0m cols \u001B[38;5;241m=\u001B[39m [re\u001B[38;5;241m.\u001B[39msub(\u001B[38;5;124m'\u001B[39m\u001B[38;5;124m\\\u001B[39m\u001B[38;5;124mW\u001B[39m\u001B[38;5;124m'\u001B[39m, \u001B[38;5;124m'\u001B[39m\u001B[38;5;124m'\u001B[39m, c) \u001B[38;5;28;01mfor\u001B[39;00m c \u001B[38;5;129;01min\u001B[39;00m cols]\n",
      "\u001B[0;31mTypeError\u001B[0m: 'NoneType' object is not subscriptable"
     ]
    }
   ],
   "source": [
    "import re  # todo: wilson you're obviously using regex to update the column headers. please explain this one to me\n",
    "\n",
    "pattern = r'(?<=Oil, ).+?(?= - \\d)'\n",
    "cols = [re.search(pattern, c, re.RegexFlag.IGNORECASE)[0] for c in veg_oil_production]\n",
    "cols = [re.sub(' ', '_', c) for c in cols]\n",
    "cols = [re.sub('\\W', '', c) for c in cols]"
   ],
   "metadata": {
    "collapsed": false,
    "pycharm": {
     "name": "#%%\n"
    }
   }
  },
  {
   "cell_type": "code",
   "execution_count": null,
   "outputs": [],
   "source": [
    "veg_oil_fig = px.area(\n",
    "    veg_oil_production,\n",
    "    x='Year',\n",
    "    y=veg_oil_production.columns[1:]\n",
    ")\n",
    "veg_oil_fig.update_traces(textfont_size=16, hovertemplate=None)\n",
    "veg_oil_fig.update_layout(hovermode=\"x\")\n",
    "\n",
    "veg_oil_fig.show()"
   ],
   "metadata": {
    "collapsed": false,
    "pycharm": {
     "name": "#%%\n"
    }
   }
  },
  {
   "cell_type": "code",
   "execution_count": null,
   "outputs": [],
   "source": [
    "palm_oil_production = veg_oil_production[[\"Year\", \"Oil, palm\"]]"
   ],
   "metadata": {
    "collapsed": false,
    "pycharm": {
     "name": "#%%\n"
    }
   }
  },
  {
   "cell_type": "code",
   "execution_count": null,
   "outputs": [],
   "source": [
    "palm_oil_prodn_fig = px.line(palm_oil_production, x=\"Year\", y=\"Oil, palm\")\n",
    "\n",
    "palm_oil_prodn_fig.update_layout(title_text=\"<b>Global Oil Palm Production<b>\", title_font_size=40, legend_font_size=20, width=1400, height=1000)  # Add figure title\n",
    "\n",
    "palm_oil_prodn_fig.update_xaxes(title_text=\"Year\", title_font=dict(size=30, family='Verdana', color='white'),\n",
    "                                tickfont=dict(family='Calibri', color='white', size=25))  # format x-axis\n",
    "\n",
    "palm_oil_prodn_fig.update_yaxes(title_text=\"<b>Palm Oil production (mt)</b>\",\n",
    "                                title_font=dict(size=30, family='Verdana', color='white'),\n",
    "                                tickfont=dict(family='Calibri', color='white', size=25))  # Format y-axes\n",
    "\n",
    "palm_oil_prodn_fig.show()\n",
    "# To-do: format plot. button to add country or region. automation"
   ],
   "metadata": {
    "collapsed": false,
    "pycharm": {
     "name": "#%%\n"
    }
   }
  }
 ],
 "metadata": {
  "kernelspec": {
   "display_name": "Python 3",
   "language": "python",
   "name": "python3"
  },
  "language_info": {
   "codemirror_mode": {
    "name": "ipython",
    "version": 2
   },
   "file_extension": ".py",
   "mimetype": "text/x-python",
   "name": "python",
   "nbconvert_exporter": "python",
   "pygments_lexer": "ipython2",
   "version": "2.7.6"
  }
 },
 "nbformat": 4,
 "nbformat_minor": 0
}